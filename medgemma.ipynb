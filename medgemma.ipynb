{
  "nbformat": 4,
  "nbformat_minor": 0,
  "metadata": {
    "colab": {
      "provenance": [],
      "machine_shape": "hm",
      "gpuType": "A100",
      "authorship_tag": "ABX9TyN/59J8ctCGgjzwYRtqCxtp",
      "include_colab_link": true
    },
    "kernelspec": {
      "name": "python3",
      "display_name": "Python 3"
    },
    "language_info": {
      "name": "python"
    },
    "accelerator": "GPU",
    "widgets": {
      "application/vnd.jupyter.widget-state+json": {
        "8e99947ce99e4889a3409fef781cf837": {
          "model_module": "@jupyter-widgets/controls",
          "model_name": "HBoxModel",
          "model_module_version": "1.5.0",
          "state": {
            "_dom_classes": [],
            "_model_module": "@jupyter-widgets/controls",
            "_model_module_version": "1.5.0",
            "_model_name": "HBoxModel",
            "_view_count": null,
            "_view_module": "@jupyter-widgets/controls",
            "_view_module_version": "1.5.0",
            "_view_name": "HBoxView",
            "box_style": "",
            "children": [
              "IPY_MODEL_f046f7343f0c415fb2cbb88b06e50cdd",
              "IPY_MODEL_c79c342a7bb64d49aa3f9f82cbb80010",
              "IPY_MODEL_ab337b3025bf49ecaa541817acfa571c"
            ],
            "layout": "IPY_MODEL_ebddfe227f704c1daa9932e44b8e0a89"
          }
        },
        "f046f7343f0c415fb2cbb88b06e50cdd": {
          "model_module": "@jupyter-widgets/controls",
          "model_name": "HTMLModel",
          "model_module_version": "1.5.0",
          "state": {
            "_dom_classes": [],
            "_model_module": "@jupyter-widgets/controls",
            "_model_module_version": "1.5.0",
            "_model_name": "HTMLModel",
            "_view_count": null,
            "_view_module": "@jupyter-widgets/controls",
            "_view_module_version": "1.5.0",
            "_view_name": "HTMLView",
            "description": "",
            "description_tooltip": null,
            "layout": "IPY_MODEL_04fa1f49fc3f4bc58d9551e1a7ab44dd",
            "placeholder": "​",
            "style": "IPY_MODEL_325a168f752f4b78a6d8267a05b5b215",
            "value": "Loading checkpoint shards: 100%"
          }
        },
        "c79c342a7bb64d49aa3f9f82cbb80010": {
          "model_module": "@jupyter-widgets/controls",
          "model_name": "FloatProgressModel",
          "model_module_version": "1.5.0",
          "state": {
            "_dom_classes": [],
            "_model_module": "@jupyter-widgets/controls",
            "_model_module_version": "1.5.0",
            "_model_name": "FloatProgressModel",
            "_view_count": null,
            "_view_module": "@jupyter-widgets/controls",
            "_view_module_version": "1.5.0",
            "_view_name": "ProgressView",
            "bar_style": "success",
            "description": "",
            "description_tooltip": null,
            "layout": "IPY_MODEL_884ec10610ec41308ce5b7a55591f31b",
            "max": 2,
            "min": 0,
            "orientation": "horizontal",
            "style": "IPY_MODEL_7139773475a74570b1147705c1367296",
            "value": 2
          }
        },
        "ab337b3025bf49ecaa541817acfa571c": {
          "model_module": "@jupyter-widgets/controls",
          "model_name": "HTMLModel",
          "model_module_version": "1.5.0",
          "state": {
            "_dom_classes": [],
            "_model_module": "@jupyter-widgets/controls",
            "_model_module_version": "1.5.0",
            "_model_name": "HTMLModel",
            "_view_count": null,
            "_view_module": "@jupyter-widgets/controls",
            "_view_module_version": "1.5.0",
            "_view_name": "HTMLView",
            "description": "",
            "description_tooltip": null,
            "layout": "IPY_MODEL_23707d4450594a8cafb1d308dcde591e",
            "placeholder": "​",
            "style": "IPY_MODEL_c6a8e49ffd11421a93bd6d507df5947c",
            "value": " 2/2 [00:09&lt;00:00,  4.64s/it]"
          }
        },
        "ebddfe227f704c1daa9932e44b8e0a89": {
          "model_module": "@jupyter-widgets/base",
          "model_name": "LayoutModel",
          "model_module_version": "1.2.0",
          "state": {
            "_model_module": "@jupyter-widgets/base",
            "_model_module_version": "1.2.0",
            "_model_name": "LayoutModel",
            "_view_count": null,
            "_view_module": "@jupyter-widgets/base",
            "_view_module_version": "1.2.0",
            "_view_name": "LayoutView",
            "align_content": null,
            "align_items": null,
            "align_self": null,
            "border": null,
            "bottom": null,
            "display": null,
            "flex": null,
            "flex_flow": null,
            "grid_area": null,
            "grid_auto_columns": null,
            "grid_auto_flow": null,
            "grid_auto_rows": null,
            "grid_column": null,
            "grid_gap": null,
            "grid_row": null,
            "grid_template_areas": null,
            "grid_template_columns": null,
            "grid_template_rows": null,
            "height": null,
            "justify_content": null,
            "justify_items": null,
            "left": null,
            "margin": null,
            "max_height": null,
            "max_width": null,
            "min_height": null,
            "min_width": null,
            "object_fit": null,
            "object_position": null,
            "order": null,
            "overflow": null,
            "overflow_x": null,
            "overflow_y": null,
            "padding": null,
            "right": null,
            "top": null,
            "visibility": null,
            "width": null
          }
        },
        "04fa1f49fc3f4bc58d9551e1a7ab44dd": {
          "model_module": "@jupyter-widgets/base",
          "model_name": "LayoutModel",
          "model_module_version": "1.2.0",
          "state": {
            "_model_module": "@jupyter-widgets/base",
            "_model_module_version": "1.2.0",
            "_model_name": "LayoutModel",
            "_view_count": null,
            "_view_module": "@jupyter-widgets/base",
            "_view_module_version": "1.2.0",
            "_view_name": "LayoutView",
            "align_content": null,
            "align_items": null,
            "align_self": null,
            "border": null,
            "bottom": null,
            "display": null,
            "flex": null,
            "flex_flow": null,
            "grid_area": null,
            "grid_auto_columns": null,
            "grid_auto_flow": null,
            "grid_auto_rows": null,
            "grid_column": null,
            "grid_gap": null,
            "grid_row": null,
            "grid_template_areas": null,
            "grid_template_columns": null,
            "grid_template_rows": null,
            "height": null,
            "justify_content": null,
            "justify_items": null,
            "left": null,
            "margin": null,
            "max_height": null,
            "max_width": null,
            "min_height": null,
            "min_width": null,
            "object_fit": null,
            "object_position": null,
            "order": null,
            "overflow": null,
            "overflow_x": null,
            "overflow_y": null,
            "padding": null,
            "right": null,
            "top": null,
            "visibility": null,
            "width": null
          }
        },
        "325a168f752f4b78a6d8267a05b5b215": {
          "model_module": "@jupyter-widgets/controls",
          "model_name": "DescriptionStyleModel",
          "model_module_version": "1.5.0",
          "state": {
            "_model_module": "@jupyter-widgets/controls",
            "_model_module_version": "1.5.0",
            "_model_name": "DescriptionStyleModel",
            "_view_count": null,
            "_view_module": "@jupyter-widgets/base",
            "_view_module_version": "1.2.0",
            "_view_name": "StyleView",
            "description_width": ""
          }
        },
        "884ec10610ec41308ce5b7a55591f31b": {
          "model_module": "@jupyter-widgets/base",
          "model_name": "LayoutModel",
          "model_module_version": "1.2.0",
          "state": {
            "_model_module": "@jupyter-widgets/base",
            "_model_module_version": "1.2.0",
            "_model_name": "LayoutModel",
            "_view_count": null,
            "_view_module": "@jupyter-widgets/base",
            "_view_module_version": "1.2.0",
            "_view_name": "LayoutView",
            "align_content": null,
            "align_items": null,
            "align_self": null,
            "border": null,
            "bottom": null,
            "display": null,
            "flex": null,
            "flex_flow": null,
            "grid_area": null,
            "grid_auto_columns": null,
            "grid_auto_flow": null,
            "grid_auto_rows": null,
            "grid_column": null,
            "grid_gap": null,
            "grid_row": null,
            "grid_template_areas": null,
            "grid_template_columns": null,
            "grid_template_rows": null,
            "height": null,
            "justify_content": null,
            "justify_items": null,
            "left": null,
            "margin": null,
            "max_height": null,
            "max_width": null,
            "min_height": null,
            "min_width": null,
            "object_fit": null,
            "object_position": null,
            "order": null,
            "overflow": null,
            "overflow_x": null,
            "overflow_y": null,
            "padding": null,
            "right": null,
            "top": null,
            "visibility": null,
            "width": null
          }
        },
        "7139773475a74570b1147705c1367296": {
          "model_module": "@jupyter-widgets/controls",
          "model_name": "ProgressStyleModel",
          "model_module_version": "1.5.0",
          "state": {
            "_model_module": "@jupyter-widgets/controls",
            "_model_module_version": "1.5.0",
            "_model_name": "ProgressStyleModel",
            "_view_count": null,
            "_view_module": "@jupyter-widgets/base",
            "_view_module_version": "1.2.0",
            "_view_name": "StyleView",
            "bar_color": null,
            "description_width": ""
          }
        },
        "23707d4450594a8cafb1d308dcde591e": {
          "model_module": "@jupyter-widgets/base",
          "model_name": "LayoutModel",
          "model_module_version": "1.2.0",
          "state": {
            "_model_module": "@jupyter-widgets/base",
            "_model_module_version": "1.2.0",
            "_model_name": "LayoutModel",
            "_view_count": null,
            "_view_module": "@jupyter-widgets/base",
            "_view_module_version": "1.2.0",
            "_view_name": "LayoutView",
            "align_content": null,
            "align_items": null,
            "align_self": null,
            "border": null,
            "bottom": null,
            "display": null,
            "flex": null,
            "flex_flow": null,
            "grid_area": null,
            "grid_auto_columns": null,
            "grid_auto_flow": null,
            "grid_auto_rows": null,
            "grid_column": null,
            "grid_gap": null,
            "grid_row": null,
            "grid_template_areas": null,
            "grid_template_columns": null,
            "grid_template_rows": null,
            "height": null,
            "justify_content": null,
            "justify_items": null,
            "left": null,
            "margin": null,
            "max_height": null,
            "max_width": null,
            "min_height": null,
            "min_width": null,
            "object_fit": null,
            "object_position": null,
            "order": null,
            "overflow": null,
            "overflow_x": null,
            "overflow_y": null,
            "padding": null,
            "right": null,
            "top": null,
            "visibility": null,
            "width": null
          }
        },
        "c6a8e49ffd11421a93bd6d507df5947c": {
          "model_module": "@jupyter-widgets/controls",
          "model_name": "DescriptionStyleModel",
          "model_module_version": "1.5.0",
          "state": {
            "_model_module": "@jupyter-widgets/controls",
            "_model_module_version": "1.5.0",
            "_model_name": "DescriptionStyleModel",
            "_view_count": null,
            "_view_module": "@jupyter-widgets/base",
            "_view_module_version": "1.2.0",
            "_view_name": "StyleView",
            "description_width": ""
          }
        }
      }
    }
  },
  "cells": [
    {
      "cell_type": "markdown",
      "metadata": {
        "id": "view-in-github",
        "colab_type": "text"
      },
      "source": [
        "<a href=\"https://colab.research.google.com/github/peterruler/med-gemma/blob/main/medgemma.ipynb\" target=\"_parent\"><img src=\"https://colab.research.google.com/assets/colab-badge.svg\" alt=\"Open In Colab\"/></a>"
      ]
    },
    {
      "cell_type": "markdown",
      "source": [],
      "metadata": {
        "id": "dDarjVAgs-Pv"
      }
    },
    {
      "cell_type": "markdown",
      "source": [
        "must have a colab plus subscription (10$ / month), and choose an A100 GPU in the runtime settings."
      ],
      "metadata": {
        "id": "HUsNZcvHtMP1"
      }
    },
    {
      "cell_type": "code",
      "source": [
        "!pip install transformers\n",
        "!pip install huggingface_hub\n",
        "!pip install accelerate\n",
        "!pip install -U bitsandbytes"
      ],
      "metadata": {
        "colab": {
          "base_uri": "https://localhost:8080/"
        },
        "id": "sXfFO3FstNqu",
        "outputId": "32263cc0-e0bb-410e-f8a5-04caf18da7af"
      },
      "execution_count": null,
      "outputs": [
        {
          "output_type": "stream",
          "name": "stdout",
          "text": [
            "Requirement already satisfied: transformers in /usr/local/lib/python3.11/dist-packages (4.52.4)\n",
            "Requirement already satisfied: filelock in /usr/local/lib/python3.11/dist-packages (from transformers) (3.18.0)\n",
            "Requirement already satisfied: huggingface-hub<1.0,>=0.30.0 in /usr/local/lib/python3.11/dist-packages (from transformers) (0.32.4)\n",
            "Requirement already satisfied: numpy>=1.17 in /usr/local/lib/python3.11/dist-packages (from transformers) (2.0.2)\n",
            "Requirement already satisfied: packaging>=20.0 in /usr/local/lib/python3.11/dist-packages (from transformers) (24.2)\n",
            "Requirement already satisfied: pyyaml>=5.1 in /usr/local/lib/python3.11/dist-packages (from transformers) (6.0.2)\n",
            "Requirement already satisfied: regex!=2019.12.17 in /usr/local/lib/python3.11/dist-packages (from transformers) (2024.11.6)\n",
            "Requirement already satisfied: requests in /usr/local/lib/python3.11/dist-packages (from transformers) (2.32.3)\n",
            "Requirement already satisfied: tokenizers<0.22,>=0.21 in /usr/local/lib/python3.11/dist-packages (from transformers) (0.21.1)\n",
            "Requirement already satisfied: safetensors>=0.4.3 in /usr/local/lib/python3.11/dist-packages (from transformers) (0.5.3)\n",
            "Requirement already satisfied: tqdm>=4.27 in /usr/local/lib/python3.11/dist-packages (from transformers) (4.67.1)\n",
            "Requirement already satisfied: fsspec>=2023.5.0 in /usr/local/lib/python3.11/dist-packages (from huggingface-hub<1.0,>=0.30.0->transformers) (2025.3.2)\n",
            "Requirement already satisfied: typing-extensions>=3.7.4.3 in /usr/local/lib/python3.11/dist-packages (from huggingface-hub<1.0,>=0.30.0->transformers) (4.14.0)\n",
            "Requirement already satisfied: hf-xet<2.0.0,>=1.1.2 in /usr/local/lib/python3.11/dist-packages (from huggingface-hub<1.0,>=0.30.0->transformers) (1.1.2)\n",
            "Requirement already satisfied: charset-normalizer<4,>=2 in /usr/local/lib/python3.11/dist-packages (from requests->transformers) (3.4.2)\n",
            "Requirement already satisfied: idna<4,>=2.5 in /usr/local/lib/python3.11/dist-packages (from requests->transformers) (3.10)\n",
            "Requirement already satisfied: urllib3<3,>=1.21.1 in /usr/local/lib/python3.11/dist-packages (from requests->transformers) (2.4.0)\n",
            "Requirement already satisfied: certifi>=2017.4.17 in /usr/local/lib/python3.11/dist-packages (from requests->transformers) (2025.4.26)\n",
            "Requirement already satisfied: huggingface_hub in /usr/local/lib/python3.11/dist-packages (0.32.4)\n",
            "Requirement already satisfied: filelock in /usr/local/lib/python3.11/dist-packages (from huggingface_hub) (3.18.0)\n",
            "Requirement already satisfied: fsspec>=2023.5.0 in /usr/local/lib/python3.11/dist-packages (from huggingface_hub) (2025.3.2)\n",
            "Requirement already satisfied: packaging>=20.9 in /usr/local/lib/python3.11/dist-packages (from huggingface_hub) (24.2)\n",
            "Requirement already satisfied: pyyaml>=5.1 in /usr/local/lib/python3.11/dist-packages (from huggingface_hub) (6.0.2)\n",
            "Requirement already satisfied: requests in /usr/local/lib/python3.11/dist-packages (from huggingface_hub) (2.32.3)\n",
            "Requirement already satisfied: tqdm>=4.42.1 in /usr/local/lib/python3.11/dist-packages (from huggingface_hub) (4.67.1)\n",
            "Requirement already satisfied: typing-extensions>=3.7.4.3 in /usr/local/lib/python3.11/dist-packages (from huggingface_hub) (4.14.0)\n",
            "Requirement already satisfied: hf-xet<2.0.0,>=1.1.2 in /usr/local/lib/python3.11/dist-packages (from huggingface_hub) (1.1.2)\n",
            "Requirement already satisfied: charset-normalizer<4,>=2 in /usr/local/lib/python3.11/dist-packages (from requests->huggingface_hub) (3.4.2)\n",
            "Requirement already satisfied: idna<4,>=2.5 in /usr/local/lib/python3.11/dist-packages (from requests->huggingface_hub) (3.10)\n",
            "Requirement already satisfied: urllib3<3,>=1.21.1 in /usr/local/lib/python3.11/dist-packages (from requests->huggingface_hub) (2.4.0)\n",
            "Requirement already satisfied: certifi>=2017.4.17 in /usr/local/lib/python3.11/dist-packages (from requests->huggingface_hub) (2025.4.26)\n",
            "Requirement already satisfied: accelerate in /usr/local/lib/python3.11/dist-packages (1.7.0)\n",
            "Requirement already satisfied: numpy<3.0.0,>=1.17 in /usr/local/lib/python3.11/dist-packages (from accelerate) (2.0.2)\n",
            "Requirement already satisfied: packaging>=20.0 in /usr/local/lib/python3.11/dist-packages (from accelerate) (24.2)\n",
            "Requirement already satisfied: psutil in /usr/local/lib/python3.11/dist-packages (from accelerate) (5.9.5)\n",
            "Requirement already satisfied: pyyaml in /usr/local/lib/python3.11/dist-packages (from accelerate) (6.0.2)\n",
            "Requirement already satisfied: torch>=2.0.0 in /usr/local/lib/python3.11/dist-packages (from accelerate) (2.6.0+cu124)\n",
            "Requirement already satisfied: huggingface-hub>=0.21.0 in /usr/local/lib/python3.11/dist-packages (from accelerate) (0.32.4)\n",
            "Requirement already satisfied: safetensors>=0.4.3 in /usr/local/lib/python3.11/dist-packages (from accelerate) (0.5.3)\n",
            "Requirement already satisfied: filelock in /usr/local/lib/python3.11/dist-packages (from huggingface-hub>=0.21.0->accelerate) (3.18.0)\n",
            "Requirement already satisfied: fsspec>=2023.5.0 in /usr/local/lib/python3.11/dist-packages (from huggingface-hub>=0.21.0->accelerate) (2025.3.2)\n",
            "Requirement already satisfied: requests in /usr/local/lib/python3.11/dist-packages (from huggingface-hub>=0.21.0->accelerate) (2.32.3)\n",
            "Requirement already satisfied: tqdm>=4.42.1 in /usr/local/lib/python3.11/dist-packages (from huggingface-hub>=0.21.0->accelerate) (4.67.1)\n",
            "Requirement already satisfied: typing-extensions>=3.7.4.3 in /usr/local/lib/python3.11/dist-packages (from huggingface-hub>=0.21.0->accelerate) (4.14.0)\n",
            "Requirement already satisfied: hf-xet<2.0.0,>=1.1.2 in /usr/local/lib/python3.11/dist-packages (from huggingface-hub>=0.21.0->accelerate) (1.1.2)\n",
            "Requirement already satisfied: networkx in /usr/local/lib/python3.11/dist-packages (from torch>=2.0.0->accelerate) (3.5)\n",
            "Requirement already satisfied: jinja2 in /usr/local/lib/python3.11/dist-packages (from torch>=2.0.0->accelerate) (3.1.6)\n",
            "Requirement already satisfied: nvidia-cuda-nvrtc-cu12==12.4.127 in /usr/local/lib/python3.11/dist-packages (from torch>=2.0.0->accelerate) (12.4.127)\n",
            "Requirement already satisfied: nvidia-cuda-runtime-cu12==12.4.127 in /usr/local/lib/python3.11/dist-packages (from torch>=2.0.0->accelerate) (12.4.127)\n",
            "Requirement already satisfied: nvidia-cuda-cupti-cu12==12.4.127 in /usr/local/lib/python3.11/dist-packages (from torch>=2.0.0->accelerate) (12.4.127)\n",
            "Requirement already satisfied: nvidia-cudnn-cu12==9.1.0.70 in /usr/local/lib/python3.11/dist-packages (from torch>=2.0.0->accelerate) (9.1.0.70)\n",
            "Requirement already satisfied: nvidia-cublas-cu12==12.4.5.8 in /usr/local/lib/python3.11/dist-packages (from torch>=2.0.0->accelerate) (12.4.5.8)\n",
            "Requirement already satisfied: nvidia-cufft-cu12==11.2.1.3 in /usr/local/lib/python3.11/dist-packages (from torch>=2.0.0->accelerate) (11.2.1.3)\n",
            "Requirement already satisfied: nvidia-curand-cu12==10.3.5.147 in /usr/local/lib/python3.11/dist-packages (from torch>=2.0.0->accelerate) (10.3.5.147)\n",
            "Requirement already satisfied: nvidia-cusolver-cu12==11.6.1.9 in /usr/local/lib/python3.11/dist-packages (from torch>=2.0.0->accelerate) (11.6.1.9)\n",
            "Requirement already satisfied: nvidia-cusparse-cu12==12.3.1.170 in /usr/local/lib/python3.11/dist-packages (from torch>=2.0.0->accelerate) (12.3.1.170)\n",
            "Requirement already satisfied: nvidia-cusparselt-cu12==0.6.2 in /usr/local/lib/python3.11/dist-packages (from torch>=2.0.0->accelerate) (0.6.2)\n",
            "Requirement already satisfied: nvidia-nccl-cu12==2.21.5 in /usr/local/lib/python3.11/dist-packages (from torch>=2.0.0->accelerate) (2.21.5)\n",
            "Requirement already satisfied: nvidia-nvtx-cu12==12.4.127 in /usr/local/lib/python3.11/dist-packages (from torch>=2.0.0->accelerate) (12.4.127)\n",
            "Requirement already satisfied: nvidia-nvjitlink-cu12==12.4.127 in /usr/local/lib/python3.11/dist-packages (from torch>=2.0.0->accelerate) (12.4.127)\n",
            "Requirement already satisfied: triton==3.2.0 in /usr/local/lib/python3.11/dist-packages (from torch>=2.0.0->accelerate) (3.2.0)\n",
            "Requirement already satisfied: sympy==1.13.1 in /usr/local/lib/python3.11/dist-packages (from torch>=2.0.0->accelerate) (1.13.1)\n",
            "Requirement already satisfied: mpmath<1.4,>=1.1.0 in /usr/local/lib/python3.11/dist-packages (from sympy==1.13.1->torch>=2.0.0->accelerate) (1.3.0)\n",
            "Requirement already satisfied: MarkupSafe>=2.0 in /usr/local/lib/python3.11/dist-packages (from jinja2->torch>=2.0.0->accelerate) (3.0.2)\n",
            "Requirement already satisfied: charset-normalizer<4,>=2 in /usr/local/lib/python3.11/dist-packages (from requests->huggingface-hub>=0.21.0->accelerate) (3.4.2)\n",
            "Requirement already satisfied: idna<4,>=2.5 in /usr/local/lib/python3.11/dist-packages (from requests->huggingface-hub>=0.21.0->accelerate) (3.10)\n",
            "Requirement already satisfied: urllib3<3,>=1.21.1 in /usr/local/lib/python3.11/dist-packages (from requests->huggingface-hub>=0.21.0->accelerate) (2.4.0)\n",
            "Requirement already satisfied: certifi>=2017.4.17 in /usr/local/lib/python3.11/dist-packages (from requests->huggingface-hub>=0.21.0->accelerate) (2025.4.26)\n",
            "Requirement already satisfied: bitsandbytes in /usr/local/lib/python3.11/dist-packages (0.46.0)\n",
            "Requirement already satisfied: torch<3,>=2.2 in /usr/local/lib/python3.11/dist-packages (from bitsandbytes) (2.6.0+cu124)\n",
            "Requirement already satisfied: numpy>=1.17 in /usr/local/lib/python3.11/dist-packages (from bitsandbytes) (2.0.2)\n",
            "Requirement already satisfied: filelock in /usr/local/lib/python3.11/dist-packages (from torch<3,>=2.2->bitsandbytes) (3.18.0)\n",
            "Requirement already satisfied: typing-extensions>=4.10.0 in /usr/local/lib/python3.11/dist-packages (from torch<3,>=2.2->bitsandbytes) (4.14.0)\n",
            "Requirement already satisfied: networkx in /usr/local/lib/python3.11/dist-packages (from torch<3,>=2.2->bitsandbytes) (3.5)\n",
            "Requirement already satisfied: jinja2 in /usr/local/lib/python3.11/dist-packages (from torch<3,>=2.2->bitsandbytes) (3.1.6)\n",
            "Requirement already satisfied: fsspec in /usr/local/lib/python3.11/dist-packages (from torch<3,>=2.2->bitsandbytes) (2025.3.2)\n",
            "Requirement already satisfied: nvidia-cuda-nvrtc-cu12==12.4.127 in /usr/local/lib/python3.11/dist-packages (from torch<3,>=2.2->bitsandbytes) (12.4.127)\n",
            "Requirement already satisfied: nvidia-cuda-runtime-cu12==12.4.127 in /usr/local/lib/python3.11/dist-packages (from torch<3,>=2.2->bitsandbytes) (12.4.127)\n",
            "Requirement already satisfied: nvidia-cuda-cupti-cu12==12.4.127 in /usr/local/lib/python3.11/dist-packages (from torch<3,>=2.2->bitsandbytes) (12.4.127)\n",
            "Requirement already satisfied: nvidia-cudnn-cu12==9.1.0.70 in /usr/local/lib/python3.11/dist-packages (from torch<3,>=2.2->bitsandbytes) (9.1.0.70)\n",
            "Requirement already satisfied: nvidia-cublas-cu12==12.4.5.8 in /usr/local/lib/python3.11/dist-packages (from torch<3,>=2.2->bitsandbytes) (12.4.5.8)\n",
            "Requirement already satisfied: nvidia-cufft-cu12==11.2.1.3 in /usr/local/lib/python3.11/dist-packages (from torch<3,>=2.2->bitsandbytes) (11.2.1.3)\n",
            "Requirement already satisfied: nvidia-curand-cu12==10.3.5.147 in /usr/local/lib/python3.11/dist-packages (from torch<3,>=2.2->bitsandbytes) (10.3.5.147)\n",
            "Requirement already satisfied: nvidia-cusolver-cu12==11.6.1.9 in /usr/local/lib/python3.11/dist-packages (from torch<3,>=2.2->bitsandbytes) (11.6.1.9)\n",
            "Requirement already satisfied: nvidia-cusparse-cu12==12.3.1.170 in /usr/local/lib/python3.11/dist-packages (from torch<3,>=2.2->bitsandbytes) (12.3.1.170)\n",
            "Requirement already satisfied: nvidia-cusparselt-cu12==0.6.2 in /usr/local/lib/python3.11/dist-packages (from torch<3,>=2.2->bitsandbytes) (0.6.2)\n",
            "Requirement already satisfied: nvidia-nccl-cu12==2.21.5 in /usr/local/lib/python3.11/dist-packages (from torch<3,>=2.2->bitsandbytes) (2.21.5)\n",
            "Requirement already satisfied: nvidia-nvtx-cu12==12.4.127 in /usr/local/lib/python3.11/dist-packages (from torch<3,>=2.2->bitsandbytes) (12.4.127)\n",
            "Requirement already satisfied: nvidia-nvjitlink-cu12==12.4.127 in /usr/local/lib/python3.11/dist-packages (from torch<3,>=2.2->bitsandbytes) (12.4.127)\n",
            "Requirement already satisfied: triton==3.2.0 in /usr/local/lib/python3.11/dist-packages (from torch<3,>=2.2->bitsandbytes) (3.2.0)\n",
            "Requirement already satisfied: sympy==1.13.1 in /usr/local/lib/python3.11/dist-packages (from torch<3,>=2.2->bitsandbytes) (1.13.1)\n",
            "Requirement already satisfied: mpmath<1.4,>=1.1.0 in /usr/local/lib/python3.11/dist-packages (from sympy==1.13.1->torch<3,>=2.2->bitsandbytes) (1.3.0)\n",
            "Requirement already satisfied: MarkupSafe>=2.0 in /usr/local/lib/python3.11/dist-packages (from jinja2->torch<3,>=2.2->bitsandbytes) (3.0.2)\n"
          ]
        }
      ]
    },
    {
      "cell_type": "code",
      "source": [
        "import torch\n",
        "print(torch.cuda.is_available()) # If you intended to use GPU"
      ],
      "metadata": {
        "colab": {
          "base_uri": "https://localhost:8080/"
        },
        "id": "5bazFWictRRJ",
        "outputId": "d0777020-05d8-4285-9434-c28770344d61"
      },
      "execution_count": null,
      "outputs": [
        {
          "output_type": "stream",
          "name": "stdout",
          "text": [
            "True\n"
          ]
        }
      ]
    },
    {
      "cell_type": "markdown",
      "source": [
        "must login to huggingface (https://huggingface.co) and create an acesss token with read rights"
      ],
      "metadata": {
        "id": "jqjtjHIotXlO"
      }
    },
    {
      "cell_type": "code",
      "source": [
        "from huggingface_hub import login\n",
        "from google.colab import userdata\n",
        "\n",
        "hf_token = userdata.get('HF_TOKEN')\n",
        "login(token=hf_token)"
      ],
      "metadata": {
        "id": "WP8-8xLitUYl"
      },
      "execution_count": null,
      "outputs": []
    },
    {
      "cell_type": "code",
      "source": [
        "import torch\n",
        "from transformers import pipeline\n",
        "from PIL import Image\n",
        "import requests\n",
        "import os\n",
        "from io import BytesIO\n",
        "\n",
        "# Set environment variable to disable torch compile (kept as in original code)\n",
        "os.environ[\"TORCH_COMPILE_DISABLE\"] = \"1\"\n",
        "\n",
        "# Check if CUDA is available (already done, but good to be explicit)\n",
        "if not torch.cuda.is_available():\n",
        "    print(\"CUDA is not available. Model loading might fail or be very slow on CPU.\")\n",
        "    device = \"cpu\"\n",
        "else:\n",
        "    device = \"cuda\"\n",
        "    print(f\"CUDA is available. Using device: {device}\")\n",
        "\n",
        "# Load the pipeline with 8-bit quantization to reduce memory usage\n",
        "# This requires the bitsandbytes library, which you have already installed.\n",
        "try:\n",
        "    pipe = pipeline(\n",
        "        \"image-text-to-text\",\n",
        "        model=\"google/medgemma-4b-it\",\n",
        "        torch_dtype=torch.bfloat16, # Keep bfloat16 if possible, but 8-bit is the main memory saver\n",
        "        # Add load_in_8bit=True for 8-bit quantization\n",
        "        # If 8-bit still fails, try load_in_4bit=True (requires additional setup sometimes)\n",
        "        model_kwargs={\"load_in_4bit\": True}\n",
        "    )\n",
        "    print(\"Pipeline loaded successfully using 4-bit quantization.\")\n",
        "\n",
        "except Exception as e:\n",
        "    print(f\"Error loading pipeline with 8-bit quantization: {e}\")\n",
        "    # Fallback to loading without quantization or suggest smaller model if necessary\n",
        "    print(\"Consider trying 4-bit quantization or a smaller model if 8-bit fails.\")\n",
        "    # If you want to try 4-bit as a fallback, uncomment the code below (and ensure you have the necessary setup if needed)\n",
        "    # try:\n",
        "    #     pipe = pipeline(\n",
        "    #         \"image-text-to-text\",\n",
        "    #         model=\"google/medgemma-4b-it\",\n",
        "    #         torch_dtype=torch.bfloat16,\n",
        "    #         device=device,\n",
        "    #         model_kwargs={\"load_in_4bit\": True}\n",
        "    #     )\n",
        "    #     print(\"Pipeline loaded successfully using 4-bit quantization.\")\n",
        "    # except Exception as e4bit:\n",
        "    #     print(f\"Error loading pipeline with 4-bit quantization: {e4bit}\")\n",
        "    #     print(\"Could not load the model with 8-bit or 4-bit quantization.\")\n",
        "    #     exit() # Exit if model cannot be loaded\n",
        "\n",
        "# Image attribution: Stillwaterising, CC0, via Wikimedia Commons\n",
        "image_url = \"https://upload.wikimedia.org/wikipedia/commons/c/c8/Chest_Xray_PA_3-8-2010.png\"\n",
        "\n",
        "try:\n",
        "    response = requests.get(image_url, headers={\"User-Agent\": \"example\"}, stream=True)\n",
        "    response.raise_for_status() # Raise an exception for bad status codes\n",
        "    image = Image.open(BytesIO(response.content)).convert(\"RGB\") # Ensure image is in RGB format\n",
        "    print(\"Image loaded successfully.\")\n",
        "except requests.exceptions.RequestException as e:\n",
        "    print(f\"Error fetching image from URL: {e}\")\n",
        "    exit() # Exit if image cannot be loaded\n",
        "except Exception as e:\n",
        "    print(f\"Error opening image: {e}\")\n",
        "    exit()\n",
        "\n",
        "messages = [\n",
        "    {\n",
        "        \"role\": \"system\",\n",
        "        \"content\": [{\"type\": \"text\", \"text\": \"You are an expert radiologist.\"}]\n",
        "    },\n",
        "    {\n",
        "        \"role\": \"user\",\n",
        "        \"content\": [\n",
        "            {\"type\": \"text\", \"text\": \"Describe this X-ray\"},\n",
        "            {\"type\": \"image\", \"image\": image}\n",
        "        ]\n",
        "    }\n",
        "]\n",
        "\n",
        "# The pipeline expects the messages directly as the primary input.\n",
        "# The `text=` notation is not correct for this pipeline type and message format.\n",
        "try:\n",
        "    output = pipe(messages, max_new_tokens=200) # Pass messages directly\n",
        "\n",
        "    # Process the output to extract the generated text\n",
        "    # The structure of the output can vary depending on the pipeline and model.\n",
        "    # Based on the original code's access, it seems like the generated text is\n",
        "    # a list of message-like segments within output[0][\"generated_text\"].\n",
        "    # We will use a safe approach to access the content of the last segment.\n",
        "    if output and isinstance(output, list) and len(output) > 0 and output[0].get(\"generated_text\") is not None:\n",
        "        generated_content_list = output[0][\"generated_text\"]\n",
        "        if isinstance(generated_content_list, list) and len(generated_content_list) > 0:\n",
        "            final_segment = generated_content_list[-1]\n",
        "            if isinstance(final_segment, dict) and \"content\" in final_segment:\n",
        "                print(\"Generated Text:\")\n",
        "                print(final_segment[\"content\"])\n",
        "            elif isinstance(final_segment, str): # Sometimes it might be a direct string\n",
        "                 print(\"Generated Text:\")\n",
        "                 print(final_segment)\n",
        "            else:\n",
        "                print(\"Could not find 'content' in the last segment of the generated text.\")\n",
        "                print(\"Full output of the last segment:\", final_segment)\n",
        "        else:\n",
        "            print(\"'generated_text' is an empty list.\")\n",
        "            print(\"Full output of output[0]:\", output[0])\n",
        "    else:\n",
        "        print(\"Unexpected output structure from the pipeline.\")\n",
        "        print(\"Full output:\", output)\n",
        "\n",
        "except Exception as e:\n",
        "    print(f\"An error occurred during pipeline execution: {e}\")"
      ],
      "metadata": {
        "colab": {
          "base_uri": "https://localhost:8080/",
          "height": 486,
          "referenced_widgets": [
            "8e99947ce99e4889a3409fef781cf837",
            "f046f7343f0c415fb2cbb88b06e50cdd",
            "c79c342a7bb64d49aa3f9f82cbb80010",
            "ab337b3025bf49ecaa541817acfa571c",
            "ebddfe227f704c1daa9932e44b8e0a89",
            "04fa1f49fc3f4bc58d9551e1a7ab44dd",
            "325a168f752f4b78a6d8267a05b5b215",
            "884ec10610ec41308ce5b7a55591f31b",
            "7139773475a74570b1147705c1367296",
            "23707d4450594a8cafb1d308dcde591e",
            "c6a8e49ffd11421a93bd6d507df5947c"
          ]
        },
        "id": "sXXomrNdta-K",
        "outputId": "f7abb6b4-6962-4fef-de2e-011cb0d04ab2"
      },
      "execution_count": null,
      "outputs": [
        {
          "output_type": "stream",
          "name": "stderr",
          "text": [
            "The `load_in_4bit` and `load_in_8bit` arguments are deprecated and will be removed in the future versions. Please, pass a `BitsAndBytesConfig` object in `quantization_config` argument instead.\n"
          ]
        },
        {
          "output_type": "stream",
          "name": "stdout",
          "text": [
            "CUDA is available. Using device: cuda\n"
          ]
        },
        {
          "output_type": "display_data",
          "data": {
            "text/plain": [
              "Loading checkpoint shards:   0%|          | 0/2 [00:00<?, ?it/s]"
            ],
            "application/vnd.jupyter.widget-view+json": {
              "version_major": 2,
              "version_minor": 0,
              "model_id": "8e99947ce99e4889a3409fef781cf837"
            }
          },
          "metadata": {}
        },
        {
          "output_type": "stream",
          "name": "stderr",
          "text": [
            "Device set to use cuda:0\n"
          ]
        },
        {
          "output_type": "stream",
          "name": "stdout",
          "text": [
            "Pipeline loaded successfully using 4-bit quantization.\n"
          ]
        },
        {
          "output_type": "stream",
          "name": "stderr",
          "text": [
            "Setting `pad_token_id` to `eos_token_id`:1 for open-end generation.\n"
          ]
        },
        {
          "output_type": "stream",
          "name": "stdout",
          "text": [
            "Image loaded successfully.\n",
            "Generated Text:\n",
            "Based on the provided chest X-ray, here's a description:\n",
            "\n",
            "**Overall Impression:**\n",
            "\n",
            "The image appears to be a standard PA (Posterior-Anterior) chest radiograph. The lungs are clear, and there are no obvious large opacities, masses, or infiltrates. The heart size is within normal limits.\n",
            "\n",
            "**Specific Findings:**\n",
            "\n",
            "*   **Lung Fields:** The lung fields are clear, with no significant opacities or infiltrates. The costophrenic angles are sharp.\n",
            "*   **Heart Size:** The cardiac silhouette appears within normal limits.\n",
            "*   **Mediastinum:** The mediastinum is unremarkable, with no obvious masses or significant enlargement of the great vessels.\n",
            "*   **Bones:** The visualized bony structures (ribs, clavicles, scapulae) appear intact without obvious fractures.\n",
            "*   **Diaphragm:** The diaphragmatic contour is normal.\n",
            "\n",
            "**Conclusion:**\n",
            "\n",
            "The chest radiograph appears normal\n"
          ]
        }
      ]
    },
    {
      "cell_type": "code",
      "source": [
        "from io import BytesIO"
      ],
      "metadata": {
        "id": "R48xatrUthkl"
      },
      "execution_count": null,
      "outputs": []
    },
    {
      "cell_type": "code",
      "source": [
        "try:\n",
        "    from google.colab import drive\n",
        "    drive.mount('/content/drive')\n",
        "    IS_COLAB = True\n",
        "except ImportError:\n",
        "    IS_COLAB = False\n",
        "    print(\"Not running in Google Colab or drive mount failed.\")"
      ],
      "metadata": {
        "colab": {
          "base_uri": "https://localhost:8080/"
        },
        "id": "OiBNyxDDtkfx",
        "outputId": "98341f62-81b8-4422-fe34-bf7f83c0b0d1"
      },
      "execution_count": null,
      "outputs": [
        {
          "output_type": "stream",
          "name": "stdout",
          "text": [
            "Drive already mounted at /content/drive; to attempt to forcibly remount, call drive.mount(\"/content/drive\", force_remount=True).\n"
          ]
        }
      ]
    },
    {
      "cell_type": "code",
      "source": [
        "'''\n",
        "# Your CT / MRI Images on google drive via drive app\n",
        "# Pfade zu Ihren Bildern auf Google Drive\n",
        "image_path1 = \"/content/drive/My Drive/dl-udemy/images/wado.jpeg\"\n",
        "image_path2 = \"/content/drive/My Drive/dl-udemy/images/wado-2.jpeg\"\n",
        "image_path3 = \"/content/drive/My Drive/dl-udemy/images/wado-3.jpeg\"\n",
        "image_path4 = \"/content/drive/My Drive/dl-udemy/images/wado-4.jpeg\"\n",
        "image_path5 = \"/content/drive/My Drive/dl-udemy/images/wado-5.jpeg\"\n",
        "\n",
        "# Bilder direkt von den Dateipfaden laden\n",
        "try:\n",
        "    image1 = Image.open(image_path1)\n",
        "    image2 = Image.open(image_path2)\n",
        "    image3 = Image.open(image_path3)\n",
        "    image4 = Image.open(image_path4)\n",
        "    image5 = Image.open(image_path5)\n",
        "except FileNotFoundError as e:\n",
        "    print(f\"Fehler: Bild nicht gefunden. Überprüfen Sie den Pfad: {e.filename}\")\n",
        "    # Beenden Sie das Skript oder behandeln Sie den Fehler entsprechend\n",
        "    exit()\n",
        "except Exception as e:\n",
        "    print(f\"Ein Fehler ist beim Laden der Bilder aufgetreten: {e}\")\n",
        "    exit()\n",
        "\n",
        "\n",
        "messages = [\n",
        "    {\n",
        "        \"role\": \"system\",\n",
        "        \"content\": [{\"type\": \"text\", \"text\": \"You are an expert radiologist.\"}]\n",
        "    },\n",
        "    {\n",
        "        \"role\": \"user\",\n",
        "            \"content\": [\n",
        "            {\"type\": \"text\", \"text\": \"Patient has no feeling in both feet, give a diagnosis.\"},\n",
        "            {\"type\": \"image\", \"image\": image1},\n",
        "            {\"type\": \"image\", \"image\": image2},\n",
        "            {\"type\": \"image\", \"image\": image3},\n",
        "            {\"type\": \"image\", \"image\": image4},\n",
        "            {\"type\": \"image\", \"image\": image5}\n",
        "        ]\n",
        "    }\n",
        "]\n",
        "'''"
      ],
      "metadata": {
        "colab": {
          "base_uri": "https://localhost:8080/",
          "height": 244
        },
        "id": "-iTDxywFtnBh",
        "outputId": "c31eb7e1-aa15-4f32-bf35-5293f328281f"
      },
      "execution_count": null,
      "outputs": [
        {
          "output_type": "execute_result",
          "data": {
            "text/plain": [
              "'\\n# Your CT / MRI Images on google drive via drive app\\n# Pfade zu Ihren Bildern auf Google Drive\\nimage_path1 = \"/content/drive/My Drive/dl-udemy/images/wado.jpeg\"\\nimage_path2 = \"/content/drive/My Drive/dl-udemy/images/wado-2.jpeg\"\\nimage_path3 = \"/content/drive/My Drive/dl-udemy/images/wado-3.jpeg\"\\nimage_path4 = \"/content/drive/My Drive/dl-udemy/images/wado-4.jpeg\"\\nimage_path5 = \"/content/drive/My Drive/dl-udemy/images/wado-5.jpeg\"\\n\\n# Bilder direkt von den Dateipfaden laden\\ntry:\\n    image1 = Image.open(image_path1)\\n    image2 = Image.open(image_path2)\\n    image3 = Image.open(image_path3)\\n    image4 = Image.open(image_path4)\\n    image5 = Image.open(image_path5)\\nexcept FileNotFoundError as e:\\n    print(f\"Fehler: Bild nicht gefunden. Überprüfen Sie den Pfad: {e.filename}\")\\n    # Beenden Sie das Skript oder behandeln Sie den Fehler entsprechend\\n    exit()\\nexcept Exception as e:\\n    print(f\"Ein Fehler ist beim Laden der Bilder aufgetreten: {e}\")\\n    exit()\\n\\n\\nmessages = [\\n    {\\n        \"role\": \"system\",\\n        \"content\": [{\"type\": \"text\", \"text\": \"You are an expert radiologist.\"}]\\n    },\\n    {\\n        \"role\": \"user\",\\n            \"content\": [\\n            {\"type\": \"text\", \"text\": \"Patient has no feeling in both feet, give a diagnosis.\"},\\n            {\"type\": \"image\", \"image\": image1},\\n            {\"type\": \"image\", \"image\": image2},\\n            {\"type\": \"image\", \"image\": image3},\\n            {\"type\": \"image\", \"image\": image4},\\n            {\"type\": \"image\", \"image\": image5}\\n        ]\\n    }\\n]\\n'"
            ],
            "application/vnd.google.colaboratory.intrinsic+json": {
              "type": "string"
            }
          },
          "metadata": {},
          "execution_count": 15
        }
      ]
    }
  ]
}